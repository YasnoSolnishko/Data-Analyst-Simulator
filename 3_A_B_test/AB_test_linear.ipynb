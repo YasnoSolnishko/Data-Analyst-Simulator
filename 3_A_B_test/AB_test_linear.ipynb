{
 "cells": [
  {
   "attachments": {},
   "cell_type": "markdown",
   "id": "b8115c7e-419a-4bb0-9b3f-5c1c1af47a41",
   "metadata": {},
   "source": [
    "\n",
    "The list of methods that can be applied to ratio metrics discussed during the lecture is not exhaustive. There are a huge number of useful materials on this topic. Let's start with the [materials](https://vkteam.medium.com/practitioners-guide-to-statistical-tests-ed2d580ef04f#d2d3) by Nikita Marshallkin. By the way, [here](https://www.youtube.com/watch?v=gljfGAkgX_o&t=19s) is his interview, which is also very interesting.\n",
    "\n",
    "Relatively recently (in 2018), researchers from Yandex developed a cool method for analyzing tests on ratio metrics (just like ours) of the form 𝑥𝑦 (ours is $\\frac{clicks}{likes}$).\n",
    "\n",
    "The idea of the method is as follows:\n",
    "\n",
    "Instead of pushing \"per-user\" CTR into the test, we can construct another metric and analyze it, but at the same time, unlike smoothed CTR, it is guaranteed that if the test on this other metric \"colors\" and sees changes, then changes also exist in the original metric (i.e., in likes per user and in user CTR).\n",
    "\n",
    "At the same time, the method itself is very simple. What kind of metric is this?\n",
    "\n",
    "* Calculate the overall CTR in the control group: $CTRcontrol=sum(likes)/sum(views)$\n",
    "* Calculate the per-user metric in both groups: $linearized\\_likes=likes-CTRcontrol*views$\n",
    "* Then compare the differences in groups using a t-test based on the metric $linearized\\_likes$  \n",
    "\n",
    "The method is simple, and it is guaranteed that with a decent sample size (which is suitable for us), you can freely increase the sensitivity of your metric (or at least not make it worse). As for me, this is VERY cool.\n",
    "\n",
    "**Task**\n",
    "\n",
    "1. Analyze the test between groups 0 and 3 based on the linearized likes metric. Is there a difference? Did 𝑝-value become smaller?\n",
    "2. Analyze the test between groups 1 and 2 based on the linearized likes metric. Is there a difference? Did 𝑝-value become smaller? \n",
    "\n",
    "\n"
   ]
  },
  {
   "cell_type": "code",
   "execution_count": 25,
   "id": "ba688f28-240a-432b-bb39-717c578a7822",
   "metadata": {},
   "outputs": [],
   "source": [
    "# import required libraries\n",
    "import pandahouse\n",
    "import pandas as pd\n",
    "from scipy import stats\n",
    "import seaborn as sns"
   ]
  },
  {
   "cell_type": "code",
   "execution_count": 16,
   "id": "52a5be3f-7c94-4d35-90f8-3fe948fbf15a",
   "metadata": {},
   "outputs": [],
   "source": [
    "# define connection parameters\n",
    "connection = {\n",
    "    'host': 'https://clickhouse.lab.karpov.courses',\n",
    "    'password': 'dpo_python_2020',\n",
    "    'user': 'student',\n",
    "    'database': 'simulator_20230120'\n",
    "}"
   ]
  },
  {
   "cell_type": "code",
   "execution_count": 17,
   "id": "b9272c54-94a2-4a39-b155-a7c6873b9770",
   "metadata": {},
   "outputs": [],
   "source": [
    "# send the query and save the result to dataframe\n",
    "q = \"\"\"\n",
    "SELECT user_id,\n",
    "        countIf(action, action = 'view') AS views,\n",
    "        countIf(action, action = 'like') AS likes,\n",
    "        likes/views AS ctr,\n",
    "        any(exp_group) AS exp_group\n",
    "FROM simulator_20230120.feed_actions\n",
    "WHERE toDate(time) >= '2023-01-01' \n",
    "AND toDate(time) <= '2023-01-07'\n",
    "GROUP BY user_id\n",
    "\"\"\"\n",
    "\n",
    "df = pandahouse.read_clickhouse(q, connection=connection)"
   ]
  },
  {
   "cell_type": "code",
   "execution_count": 18,
   "id": "8d7e4326-1853-4ad1-b384-9c7d51212895",
   "metadata": {},
   "outputs": [
    {
     "data": {
      "text/html": [
       "<div>\n",
       "<style scoped>\n",
       "    .dataframe tbody tr th:only-of-type {\n",
       "        vertical-align: middle;\n",
       "    }\n",
       "\n",
       "    .dataframe tbody tr th {\n",
       "        vertical-align: top;\n",
       "    }\n",
       "\n",
       "    .dataframe thead th {\n",
       "        text-align: right;\n",
       "    }\n",
       "</style>\n",
       "<table border=\"1\" class=\"dataframe\">\n",
       "  <thead>\n",
       "    <tr style=\"text-align: right;\">\n",
       "      <th></th>\n",
       "      <th>user_id</th>\n",
       "      <th>views</th>\n",
       "      <th>likes</th>\n",
       "      <th>ctr</th>\n",
       "      <th>exp_group</th>\n",
       "    </tr>\n",
       "  </thead>\n",
       "  <tbody>\n",
       "    <tr>\n",
       "      <th>0</th>\n",
       "      <td>13289</td>\n",
       "      <td>24</td>\n",
       "      <td>4</td>\n",
       "      <td>0.166667</td>\n",
       "      <td>3</td>\n",
       "    </tr>\n",
       "    <tr>\n",
       "      <th>1</th>\n",
       "      <td>121096</td>\n",
       "      <td>110</td>\n",
       "      <td>27</td>\n",
       "      <td>0.245455</td>\n",
       "      <td>3</td>\n",
       "    </tr>\n",
       "    <tr>\n",
       "      <th>2</th>\n",
       "      <td>129283</td>\n",
       "      <td>94</td>\n",
       "      <td>15</td>\n",
       "      <td>0.159574</td>\n",
       "      <td>1</td>\n",
       "    </tr>\n",
       "    <tr>\n",
       "      <th>3</th>\n",
       "      <td>129995</td>\n",
       "      <td>74</td>\n",
       "      <td>22</td>\n",
       "      <td>0.297297</td>\n",
       "      <td>1</td>\n",
       "    </tr>\n",
       "    <tr>\n",
       "      <th>4</th>\n",
       "      <td>121792</td>\n",
       "      <td>89</td>\n",
       "      <td>21</td>\n",
       "      <td>0.235955</td>\n",
       "      <td>4</td>\n",
       "    </tr>\n",
       "  </tbody>\n",
       "</table>\n",
       "</div>"
      ],
      "text/plain": [
       "   user_id  views  likes       ctr  exp_group\n",
       "0    13289     24      4  0.166667          3\n",
       "1   121096    110     27  0.245455          3\n",
       "2   129283     94     15  0.159574          1\n",
       "3   129995     74     22  0.297297          1\n",
       "4   121792     89     21  0.235955          4"
      ]
     },
     "execution_count": 18,
     "metadata": {},
     "output_type": "execute_result"
    }
   ],
   "source": [
    "df.head()"
   ]
  },
  {
   "cell_type": "code",
   "execution_count": 19,
   "id": "7b714923-8bb3-4143-aa7a-f57d85648741",
   "metadata": {},
   "outputs": [],
   "source": [
    "# Calculating general CTR in the group \n",
    "# Calculate the overall CTR in the control group  $𝐶𝑇𝑅𝑐𝑜𝑛𝑡𝑟𝑜𝑙=𝑠𝑢𝑚(𝑙𝑖𝑘𝑒𝑠)/𝑠𝑢𝑚(𝑣𝑖𝑒𝑤𝑠)$  \n",
    "\n",
    "grouped = df.groupby('exp_group')\n",
    "\n",
    "# Sum the 'likes' and 'views' columns for each group\n",
    "likes_sum = grouped['likes'].sum()\n",
    "views_sum = grouped['views'].sum()\n",
    "\n",
    "# Divide the sum of the 'likes' column by the sum of the 'views' column\n",
    "ctr = likes_sum / views_sum\n",
    "\n",
    "# Create a new column 'CTR_control' in the original dataframe to store the CTR values\n",
    "df['CTR_control'] = df['exp_group'].map(ctr)"
   ]
  },
  {
   "cell_type": "code",
   "execution_count": null,
   "id": "d52b5372-7470-4733-a57a-c7acd9aea2ff",
   "metadata": {},
   "outputs": [],
   "source": [
    "# calculatnig linearized metric \n",
    "# Calculate the per-user metric in both groups  $𝑙𝑖𝑛𝑒𝑎𝑟𝑖𝑧𝑒𝑑_𝑙𝑖𝑘𝑒𝑠=𝑙𝑖𝑘𝑒𝑠−𝐶𝑇𝑅𝑐𝑜𝑛𝑡𝑟𝑜𝑙∗𝑣𝑖𝑒𝑤𝑠$  \n",
    "\n",
    "df['linearized_likes'] = df['likes'] - df['CTR_control'] * df['views']"
   ]
  },
  {
   "cell_type": "code",
   "execution_count": 21,
   "id": "dd5eeb7b-a519-4789-b8ba-4c24ad00f03f",
   "metadata": {},
   "outputs": [
    {
     "data": {
      "text/html": [
       "<div>\n",
       "<style scoped>\n",
       "    .dataframe tbody tr th:only-of-type {\n",
       "        vertical-align: middle;\n",
       "    }\n",
       "\n",
       "    .dataframe tbody tr th {\n",
       "        vertical-align: top;\n",
       "    }\n",
       "\n",
       "    .dataframe thead th {\n",
       "        text-align: right;\n",
       "    }\n",
       "</style>\n",
       "<table border=\"1\" class=\"dataframe\">\n",
       "  <thead>\n",
       "    <tr style=\"text-align: right;\">\n",
       "      <th></th>\n",
       "      <th>user_id</th>\n",
       "      <th>views</th>\n",
       "      <th>likes</th>\n",
       "      <th>ctr</th>\n",
       "      <th>exp_group</th>\n",
       "      <th>CTR_control</th>\n",
       "      <th>linearized_likes</th>\n",
       "    </tr>\n",
       "  </thead>\n",
       "  <tbody>\n",
       "    <tr>\n",
       "      <th>0</th>\n",
       "      <td>13289</td>\n",
       "      <td>24</td>\n",
       "      <td>4</td>\n",
       "      <td>0.166667</td>\n",
       "      <td>3</td>\n",
       "      <td>0.224296</td>\n",
       "      <td>-1.383102</td>\n",
       "    </tr>\n",
       "    <tr>\n",
       "      <th>1</th>\n",
       "      <td>121096</td>\n",
       "      <td>110</td>\n",
       "      <td>27</td>\n",
       "      <td>0.245455</td>\n",
       "      <td>3</td>\n",
       "      <td>0.224296</td>\n",
       "      <td>2.327451</td>\n",
       "    </tr>\n",
       "    <tr>\n",
       "      <th>2</th>\n",
       "      <td>129283</td>\n",
       "      <td>94</td>\n",
       "      <td>15</td>\n",
       "      <td>0.159574</td>\n",
       "      <td>1</td>\n",
       "      <td>0.208027</td>\n",
       "      <td>-4.554520</td>\n",
       "    </tr>\n",
       "    <tr>\n",
       "      <th>3</th>\n",
       "      <td>129995</td>\n",
       "      <td>74</td>\n",
       "      <td>22</td>\n",
       "      <td>0.297297</td>\n",
       "      <td>1</td>\n",
       "      <td>0.208027</td>\n",
       "      <td>6.606016</td>\n",
       "    </tr>\n",
       "    <tr>\n",
       "      <th>4</th>\n",
       "      <td>121792</td>\n",
       "      <td>89</td>\n",
       "      <td>21</td>\n",
       "      <td>0.235955</td>\n",
       "      <td>4</td>\n",
       "      <td>0.208722</td>\n",
       "      <td>2.423740</td>\n",
       "    </tr>\n",
       "  </tbody>\n",
       "</table>\n",
       "</div>"
      ],
      "text/plain": [
       "   user_id  views  likes       ctr  exp_group  CTR_control  linearized_likes\n",
       "0    13289     24      4  0.166667          3     0.224296         -1.383102\n",
       "1   121096    110     27  0.245455          3     0.224296          2.327451\n",
       "2   129283     94     15  0.159574          1     0.208027         -4.554520\n",
       "3   129995     74     22  0.297297          1     0.208027          6.606016\n",
       "4   121792     89     21  0.235955          4     0.208722          2.423740"
      ]
     },
     "execution_count": 21,
     "metadata": {},
     "output_type": "execute_result"
    }
   ],
   "source": [
    "df.head()"
   ]
  },
  {
   "cell_type": "code",
   "execution_count": 38,
   "id": "b4823745-cc57-4c02-b94a-f76a10d1b10f",
   "metadata": {},
   "outputs": [
    {
     "data": {
      "image/png": "[encoded data removed]",
      "text/plain": [
       "<Figure size 1170x827 with 1 Axes>"
      ]
     },
     "metadata": {},
     "output_type": "display_data"
    }
   ],
   "source": [
    "sns.set(rc={'figure.figsize':(11.7,8.27)})\n",
    "\n",
    "groups = sns.histplot(data = df.query('exp_group == 0 | exp_group == 3'), \n",
    "              x='linearized_likes', \n",
    "              hue='exp_group', \n",
    "              palette = ['r', 'b'],\n",
    "              alpha=0.5,\n",
    "              kde=False)"
   ]
  },
  {
   "cell_type": "code",
   "execution_count": 39,
   "id": "663469a8-e3dc-45e1-975a-09fec2cd1fe2",
   "metadata": {},
   "outputs": [
    {
     "data": {
      "text/plain": [
       "Ttest_indResult(statistic=-1.2237229536846168e-15, pvalue=0.999999999999999)"
      ]
     },
     "execution_count": 39,
     "metadata": {},
     "output_type": "execute_result"
    }
   ],
   "source": [
    "# t-test\n",
    "\n",
    "stats.ttest_ind(df[df.exp_group == 0].linearized_likes,\n",
    "               df[df.exp_group == 3].linearized_likes,\n",
    "               equal_var=False)"
   ]
  },
  {
   "cell_type": "code",
   "execution_count": 42,
   "id": "34ea919d-6a40-4d1f-aa13-b79c8be2e5f4",
   "metadata": {},
   "outputs": [
    {
     "data": {
      "text/plain": [
       "MannwhitneyuResult(statistic=49775173.0, pvalue=0.2566197982423696)"
      ]
     },
     "execution_count": 42,
     "metadata": {},
     "output_type": "execute_result"
    }
   ],
   "source": [
    "stats.mannwhitneyu(df[df.exp_group == 0].linearized_likes,\n",
    "               df[df.exp_group == 3].linearized_likes,\n",
    "               alternative = 'two-sided')"
   ]
  },
  {
   "cell_type": "code",
   "execution_count": 30,
   "id": "c3cc8f81-3cce-4924-983d-f23f07d2cf43",
   "metadata": {},
   "outputs": [
    {
     "data": {
      "image/png": "[encoded data removed]",
      "text/plain": [
       "<Figure size 1170x827 with 1 Axes>"
      ]
     },
     "metadata": {},
     "output_type": "display_data"
    }
   ],
   "source": [
    "sns.set(rc={'figure.figsize':(11.7,8.27)})\n",
    "\n",
    "groups = sns.histplot(data = df.query('exp_group == 1 | exp_group == 2'), \n",
    "              x='linearized_likes', \n",
    "              hue='exp_group', \n",
    "              palette = ['r', 'b'],\n",
    "              alpha=0.5,\n",
    "              kde=False)"
   ]
  },
  {
   "cell_type": "code",
   "execution_count": 23,
   "id": "442622d9-e3a8-4074-b39d-65e28b5cf1a4",
   "metadata": {},
   "outputs": [
    {
     "data": {
      "text/plain": [
       "Ttest_indResult(statistic=-7.32460493325957e-15, pvalue=0.9999999999999942)"
      ]
     },
     "execution_count": 23,
     "metadata": {},
     "output_type": "execute_result"
    }
   ],
   "source": [
    "# t-test\n",
    "\n",
    "stats.ttest_ind(df[df.exp_group == 1].linearized_likes,\n",
    "               df[df.exp_group == 2].linearized_likes,\n",
    "               equal_var=False)"
   ]
  },
  {
   "cell_type": "code",
   "execution_count": 43,
   "id": "70d151bd-2247-4f05-be4a-068454c81f8e",
   "metadata": {},
   "outputs": [
    {
     "data": {
      "text/plain": [
       "MannwhitneyuResult(statistic=53100508.0, pvalue=5.896781159543966e-13)"
      ]
     },
     "execution_count": 43,
     "metadata": {},
     "output_type": "execute_result"
    }
   ],
   "source": [
    "stats.mannwhitneyu(df[df.exp_group == 1].linearized_likes,\n",
    "               df[df.exp_group == 2].linearized_likes,\n",
    "               alternative = 'two-sided')"
   ]
  },
  {
   "cell_type": "markdown",
   "id": "b8d1bba4-feab-4875-a9ac-ed593d788b2e",
   "metadata": {},
   "source": [
    "# Conclusions\n",
    "\n"
   ]
  },
  {
   "cell_type": "markdown",
   "id": "05a928ae-8856-425c-a0f5-d96418370cf5",
   "metadata": {},
   "source": [
    "Analyzing the linearized CTR for groups 0 and 3:\n",
    "* visually, there is no difference between distributions and averages;\n",
    "* t-test p-value is almost 1, and that means that there is no difference between means;\n",
    "* Mann-Whitney p-value is above 0,05, which confirms that distributions are equal.\n",
    "\n",
    "Analyzing the linearized CTR for groups 1 and 2:\n",
    "* visually, there is a difference between distributions, but the averages look the same;\n",
    "* t-test p-value is almost 1, and that means that there is no difference between means;\n",
    "* Mann-Whitney p-value is way below 0,05, which confirms that distributions are unequal."
   ]
  },
  {
   "cell_type": "code",
   "execution_count": null,
   "id": "07cf1d69-f5cb-41cb-b56d-97be9707d46f",
   "metadata": {},
   "outputs": [],
   "source": []
  }
 ],
 "metadata": {
  "kernelspec": {
   "display_name": "Python 3 (ipykernel)",
   "language": "python",
   "name": "python3"
  },
  "language_info": {
   "codemirror_mode": {
    "name": "ipython",
    "version": 3
   },
   "file_extension": ".py",
   "mimetype": "text/x-python",
   "name": "python",
   "nbconvert_exporter": "python",
   "pygments_lexer": "ipython3",
   "version": "3.7.9"
  }
 },
 "nbformat": 4,
 "nbformat_minor": 5
}
