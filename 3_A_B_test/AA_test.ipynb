{
 "cells": [
  {
   "cell_type": "code",
   "execution_count": 57,
   "id": "26eeb055-85ee-4ef2-81eb-c74f52eaefbf",
   "metadata": {},
   "outputs": [],
   "source": [
    "# import required libraries\n",
    "import pandahouse\n",
    "import pandas as pd\n",
    "import numpy as np\n",
    "import seaborn as sns\n",
    "from scipy import stats"
   ]
  },
  {
   "cell_type": "code",
   "execution_count": 15,
   "id": "52665a33-609e-4426-ae8a-94e5296ac49e",
   "metadata": {},
   "outputs": [],
   "source": [
    "# define connection parameters\n",
    "connection = {\n",
    "    'host': 'https://clickhouse.lab.karpov.courses',\n",
    "    'password': 'dpo_python_2020',\n",
    "    'user': 'student',\n",
    "    'database': 'simulator_20230120'\n",
    "}"
   ]
  },
  {
   "cell_type": "code",
   "execution_count": 27,
   "id": "118d15c3-dd50-4f8f-b824-df27b8f59c99",
   "metadata": {},
   "outputs": [],
   "source": [
    "#send the query and save the result to dataframe\n",
    "q = \"\"\"\n",
    "SELECT user_id,\n",
    "        countIf(action, action = 'view') AS views,\n",
    "        countIf(action, action = 'like') AS likes,\n",
    "        likes/views AS ctr,\n",
    "        any(exp_group) AS exp_group\n",
    "FROM simulator_20230120.feed_actions\n",
    "WHERE toDate(time) >= '2022-12-25' \n",
    "AND toDate(time) <= '2022-12-31'\n",
    "GROUP BY user_id\n",
    "\"\"\"\n",
    "\n",
    "df = pandahouse.read_clickhouse(q, connection=connection)"
   ]
  },
  {
   "cell_type": "code",
   "execution_count": 28,
   "id": "7805897a-ffe7-422f-9d7b-a6bf73d03014",
   "metadata": {},
   "outputs": [
    {
     "data": {
      "text/html": [
       "<div>\n",
       "<style scoped>\n",
       "    .dataframe tbody tr th:only-of-type {\n",
       "        vertical-align: middle;\n",
       "    }\n",
       "\n",
       "    .dataframe tbody tr th {\n",
       "        vertical-align: top;\n",
       "    }\n",
       "\n",
       "    .dataframe thead th {\n",
       "        text-align: right;\n",
       "    }\n",
       "</style>\n",
       "<table border=\"1\" class=\"dataframe\">\n",
       "  <thead>\n",
       "    <tr style=\"text-align: right;\">\n",
       "      <th></th>\n",
       "      <th>user_id</th>\n",
       "      <th>views</th>\n",
       "      <th>likes</th>\n",
       "      <th>ctr</th>\n",
       "      <th>exp_group</th>\n",
       "    </tr>\n",
       "  </thead>\n",
       "  <tbody>\n",
       "    <tr>\n",
       "      <th>0</th>\n",
       "      <td>13289</td>\n",
       "      <td>55</td>\n",
       "      <td>7</td>\n",
       "      <td>0.127273</td>\n",
       "      <td>3</td>\n",
       "    </tr>\n",
       "    <tr>\n",
       "      <th>1</th>\n",
       "      <td>121096</td>\n",
       "      <td>101</td>\n",
       "      <td>29</td>\n",
       "      <td>0.287129</td>\n",
       "      <td>3</td>\n",
       "    </tr>\n",
       "    <tr>\n",
       "      <th>2</th>\n",
       "      <td>5090</td>\n",
       "      <td>66</td>\n",
       "      <td>25</td>\n",
       "      <td>0.378788</td>\n",
       "      <td>4</td>\n",
       "    </tr>\n",
       "    <tr>\n",
       "      <th>3</th>\n",
       "      <td>129283</td>\n",
       "      <td>17</td>\n",
       "      <td>2</td>\n",
       "      <td>0.117647</td>\n",
       "      <td>1</td>\n",
       "    </tr>\n",
       "    <tr>\n",
       "      <th>4</th>\n",
       "      <td>129995</td>\n",
       "      <td>152</td>\n",
       "      <td>36</td>\n",
       "      <td>0.236842</td>\n",
       "      <td>1</td>\n",
       "    </tr>\n",
       "  </tbody>\n",
       "</table>\n",
       "</div>"
      ],
      "text/plain": [
       "   user_id  views  likes       ctr  exp_group\n",
       "0    13289     55      7  0.127273          3\n",
       "1   121096    101     29  0.287129          3\n",
       "2     5090     66     25  0.378788          4\n",
       "3   129283     17      2  0.117647          1\n",
       "4   129995    152     36  0.236842          1"
      ]
     },
     "execution_count": 28,
     "metadata": {},
     "output_type": "execute_result"
    }
   ],
   "source": [
    "df.head()"
   ]
  },
  {
   "cell_type": "code",
   "execution_count": 23,
   "id": "b99ef3f7-5e14-4cac-9f64-20adbd208b73",
   "metadata": {},
   "outputs": [],
   "source": [
    "#number of AA-tests\n",
    "n = 10000"
   ]
  },
  {
   "cell_type": "code",
   "execution_count": 76,
   "id": "4f2a39fe-c70b-434c-a349-98dadcee7471",
   "metadata": {},
   "outputs": [],
   "source": [
    "stat_results = []\n",
    "p_results = []\n",
    "for i in range(n):\n",
    "    A1 = np.random.choice(df[df.exp_group == 2].ctr, 500, replace=False)\n",
    "    A2 = np.random.choice(df[df.exp_group == 3].ctr, 500, replace=False)\n",
    "    [statistic, p_value] = stats.ttest_ind(A1, A2, equal_var=False)\n",
    "    stat_results.append(statistic)\n",
    "    p_results.append(p_value)"
   ]
  },
  {
   "cell_type": "code",
   "execution_count": 86,
   "id": "5ff5e5b0-773b-4409-ad58-18eff0c0a20b",
   "metadata": {},
   "outputs": [
    {
     "data": {
      "text/plain": [
       "<seaborn.axisgrid.FacetGrid at 0x1e4911262c8>"
      ]
     },
     "execution_count": 86,
     "metadata": {},
     "output_type": "execute_result"
    },
    {
     "data": {
      "image/png": "[encoded data removed]",
      "text/plain": [
       "<Figure size 500x500 with 1 Axes>"
      ]
     },
     "metadata": {},
     "output_type": "display_data"
    }
   ],
   "source": [
    "sns.displot(p_results, binwidth=0.05)"
   ]
  },
  {
   "cell_type": "code",
   "execution_count": 124,
   "id": "1f61d913-83f4-49cb-896e-f9a78b3980fa",
   "metadata": {},
   "outputs": [
    {
     "data": {
      "text/plain": [
       "4.73"
      ]
     },
     "execution_count": 124,
     "metadata": {},
     "output_type": "execute_result"
    }
   ],
   "source": [
    "# the percentage of p-values less or equal to 0.05\n",
    "(np.array(p_results) <= 0.05).sum() / len(p_results) * 100"
   ]
  },
  {
   "cell_type": "markdown",
   "id": "88740f8f-63ab-4bd1-a82f-42927b27f95f",
   "metadata": {},
   "source": [
    "# Conclusion\n",
    "The distribution of the p-value is uniform.  \n",
    "In an A/A t-test that satisfies the underlying statistical assumptions for a t-test, the resulting p-value distribution should be uniform (so, a p-value < 0.05 should occur 5% of the time). If the p-value distribution is not uniform, it shows that the testing methodology is flawed and violates assumptions.  \n",
    "  \n",
    "The calculation shows that a p-value < 0.05 occurs less than 5% of the time, which means that the split system works correctly."
   ]
  }
 ],
 "metadata": {
  "kernelspec": {
   "display_name": "Python 3 (ipykernel)",
   "language": "python",
   "name": "python3"
  },
  "language_info": {
   "codemirror_mode": {
    "name": "ipython",
    "version": 3
   },
   "file_extension": ".py",
   "mimetype": "text/x-python",
   "name": "python",
   "nbconvert_exporter": "python",
   "pygments_lexer": "ipython3",
   "version": "3.7.9"
  }
 },
 "nbformat": 4,
 "nbformat_minor": 5
}
